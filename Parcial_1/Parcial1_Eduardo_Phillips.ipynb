{
  "nbformat": 4,
  "nbformat_minor": 0,
  "metadata": {
    "colab": {
      "provenance": [],
      "authorship_tag": "ABX9TyOpEzEQLahHCFdQkmJ74nU/",
      "include_colab_link": true
    },
    "kernelspec": {
      "name": "python3",
      "display_name": "Python 3"
    },
    "language_info": {
      "name": "python"
    }
  },
  "cells": [
    {
      "cell_type": "markdown",
      "metadata": {
        "id": "view-in-github",
        "colab_type": "text"
      },
      "source": [
        "<a href=\"https://colab.research.google.com/github/Dracomp89/Eduardo-Phillips---202115611/blob/main/Parcial_1/Parcial1_Eduardo_Phillips.ipynb\" target=\"_parent\"><img src=\"https://colab.research.google.com/assets/colab-badge.svg\" alt=\"Open In Colab\"/></a>"
      ]
    },
    {
      "cell_type": "code",
      "execution_count": null,
      "metadata": {
        "id": "QUFfqWQoN247"
      },
      "outputs": [],
      "source": []
    },
    {
      "cell_type": "markdown",
      "source": [
        "# 5. Raíces Laguerre"
      ],
      "metadata": {
        "id": "AyUIWDPfN3iS"
      }
    },
    {
      "cell_type": "code",
      "source": [
        "import sympy as sp\n",
        "import numpy as np\n",
        "\n",
        "x = sp.Symbol('x')\n",
        "\n",
        "def laguerre_polynomial(n):\n",
        "\n",
        "      return sp.exp(x) * sp.diff(x**n * sp.exp(-x), x, n) / sp.factorial(n)\n",
        "\n",
        "for n in range(1, 6):\n",
        "\n",
        "    Ln = laguerre_polynomial(n)\n",
        "\n",
        "    Ln_simplified = sp.simplify(Ln)\n",
        "\n",
        "     # Convertir el polinomio a una expresión en función de x\n",
        "    polynomial = sp.Poly(Ln_simplified, x)\n",
        "\n",
        "    # Encontrar las raíces numéricas (reales y complejas)\n",
        "    numerical_roots = polynomial.nroots()\n",
        "\n",
        "    # Filtrar las raíces reales\n",
        "    real_roots = [r.evalf() for r in numerical_roots if r.is_real]\n",
        "\n",
        "    print(f\"Raíces reales del polinomio de Laguerre L_{n}(x): {real_roots}\")"
      ],
      "metadata": {
        "colab": {
          "base_uri": "https://localhost:8080/"
        },
        "id": "B3E4Zn6AOLlt",
        "outputId": "a65d5e31-e548-427c-c946-63db8a2fd936"
      },
      "execution_count": 1,
      "outputs": [
        {
          "output_type": "stream",
          "name": "stdout",
          "text": [
            "Raíces reales del polinomio de Laguerre L_1(x): [1.00000000000000]\n",
            "Raíces reales del polinomio de Laguerre L_2(x): [0.585786437626905, 3.41421356237309]\n",
            "Raíces reales del polinomio de Laguerre L_3(x): [0.415774556783479, 2.29428036027904, 6.28994508293748]\n",
            "Raíces reales del polinomio de Laguerre L_4(x): [0.322547689619392, 1.74576110115835, 4.53662029692113, 9.39507091230113]\n",
            "Raíces reales del polinomio de Laguerre L_5(x): [0.263560319718141, 1.41340305910652, 3.59642577104072, 7.08581000585884, 12.6408008442758]\n"
          ]
        }
      ]
    },
    {
      "cell_type": "markdown",
      "source": [
        "# Camino Óptico"
      ],
      "metadata": {
        "id": "dxIO_aHWbF1Z"
      }
    },
    {
      "cell_type": "code",
      "source": [
        "import numpy as np\n",
        "\n",
        "# Definir los parámetros del transmisor y receptor\n",
        "T = [-3, 2]  # Posición del transmisor\n",
        "R = [2, -2]  # Posición del receptor\n",
        "\n",
        "# Definir la función que calcula el camino óptico\n",
        "def camino_optico(T, R, x):\n",
        "    n0 = 1  # Índice de refracción en el aire\n",
        "    n1 = 1.33  # Índice de refracción en el agua\n",
        "    ct = n0 * np.sqrt(((x - T[0])**2) + T[1]**2) + n1 * np.sqrt(((x - R[0])**2) + R[1]**2)\n",
        "    return ct\n",
        "\n",
        "# Implementación de la primera derivada usando diferencias centrales\n",
        "def primera_derivada(f, x, h=1e-5):\n",
        "    return (f(x + h) - f(x - h)) / (2 * h)\n",
        "\n",
        "# Implementación de la segunda derivada usando diferencias centrales\n",
        "def segunda_derivada(f, x, h=1e-5):\n",
        "    return (f(x + h) - 2 * f(x) + f(x - h)) / (h**2)\n",
        "\n",
        "# Método de Newton-Raphson modificado para encontrar el mínimo\n",
        "def newton_raphson_minimo(f, x0, h=1e-5, tol=1e-9, max_iters=100):\n",
        "    for i in range(max_iters):\n",
        "        f_prime = primera_derivada(f, x0, h)\n",
        "        f_double_prime = segunda_derivada(f, x0, h)\n",
        "\n",
        "        # Evitar divisiones por cero o derivada segunda nula\n",
        "        if abs(f_double_prime) < tol:\n",
        "            print(\"La segunda derivada es muy pequeña. No se puede continuar.\")\n",
        "            break\n",
        "\n",
        "        # Actualizar x usando Newton-Raphson\n",
        "        x1 = x0 - f_prime / f_double_prime\n",
        "\n",
        "        # Verificar la convergencia\n",
        "        if abs(x1 - x0) < tol:\n",
        "            print(f\"Convergencia alcanzada en {i+1} iteraciones.\")\n",
        "            return x1\n",
        "\n",
        "        x0 = x1\n",
        "\n",
        "    print(\"No se alcanzó la convergencia en el número máximo de iteraciones.\")\n",
        "    return x0\n",
        "\n",
        "# Definir la función camino_optico con los parámetros T y R ya fijados\n",
        "f = lambda x: camino_optico(T, R, x)\n",
        "\n",
        "# Punto inicial para Newton-Raphson\n",
        "x0_inicial = 0\n",
        "\n",
        "# Encontrar el mínimo del tiempo de viaje\n",
        "xmin = newton_raphson_minimo(f, x0_inicial)\n",
        "\n",
        "print(f\"El valor de x que minimiza el tiempo de viaje es: {xmin}\")\n",
        "print(f\"El tiempo mínimo de viaje es: {camino_optico(T, R, xmin)}\")\n"
      ],
      "metadata": {
        "colab": {
          "base_uri": "https://localhost:8080/"
        },
        "id": "EVt3zAvhbOM4",
        "outputId": "32993553-073b-489c-bc91-a7707d9a844c"
      },
      "execution_count": 14,
      "outputs": [
        {
          "output_type": "stream",
          "name": "stdout",
          "text": [
            "Convergencia alcanzada en 5 iteraciones.\n",
            "El valor de x que minimiza el tiempo de viaje es: 0.31690575714302655\n",
            "El tiempo mínimo de viaje es: 7.349795676886238\n"
          ]
        }
      ]
    },
    {
      "cell_type": "code",
      "source": [
        "import numpy as np\n",
        "\n",
        "# Definir los parámetros del transmisor y receptor\n",
        "T = [-3, 2]  # Posición del transmisor\n",
        "R = [2, -2]  # Posición del receptor\n",
        "\n",
        "# Definir la función que calcula el camino óptico\n",
        "def camino_optico(T, R, x):\n",
        "    n0 = 1  # Índice de refracción en el aire\n",
        "    n1 = 1.33  # Índice de refracción en el agua\n",
        "    ct = n0 * np.sqrt(((x - T[0])**2) + T[1]**2) + n1 * np.sqrt(((x - R[0])**2) + R[1]**2)\n",
        "    return ct\n",
        "\n",
        "# Implementación de la primera derivada usando diferencias centrales\n",
        "def primera_derivada(f, x, h=1e-5):\n",
        "    return (f(x + h) - f(x - h)) / (2 * h)\n",
        "\n",
        "# Implementación de la segunda derivada usando diferencias centrales\n",
        "def segunda_derivada(f, x, h=1e-5):\n",
        "    return (f(x + h) - 2 * f(x) + f(x - h)) / (h**2)\n",
        "\n",
        "# Método de Newton-Raphson modificado para encontrar el mínimo\n",
        "def newton_raphson_minimo(f, x0, h=1e-5, tol=1e-9, max_iters=100):\n",
        "    for i in range(max_iters):\n",
        "        f_prime = primera_derivada(f, x0, h)\n",
        "        f_double_prime = segunda_derivada(f, x0, h)\n",
        "\n",
        "        # Evitar divisiones por cero o derivada segunda nula\n",
        "        if abs(f_double_prime) < tol:\n",
        "            print(\"La segunda derivada es muy pequeña. No se puede continuar.\")\n",
        "            break\n",
        "\n",
        "        # Actualizar x usando Newton-Raphson\n",
        "        x1 = x0 - f_prime / f_double_prime\n",
        "\n",
        "        # Verificar la convergencia\n",
        "        if abs(x1 - x0) < tol:\n",
        "            print(f\"Convergencia alcanzada en {i+1} iteraciones.\")\n",
        "            return x1\n",
        "\n",
        "        x0 = x1\n",
        "\n",
        "    print(\"No se alcanzó la convergencia en el número máximo de iteraciones.\")\n",
        "    return x0\n",
        "\n",
        "# Definir la función camino_optico con los parámetros T y R ya fijados\n",
        "f = lambda x: camino_optico(T, R, x)\n",
        "\n",
        "# Punto inicial para Newton-Raphson\n",
        "x0_inicial = 0\n",
        "\n",
        "# Encontrar el mínimo del tiempo de viaje\n",
        "xmin = newton_raphson_minimo(f, x0_inicial)\n",
        "\n",
        "vector=(xmin,0)"
      ],
      "metadata": {
        "id": "PoBlcKt3dmeY"
      },
      "execution_count": null,
      "outputs": []
    }
  ]
}