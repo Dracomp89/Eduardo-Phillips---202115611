{
  "nbformat": 4,
  "nbformat_minor": 0,
  "metadata": {
    "colab": {
      "provenance": [],
      "authorship_tag": "ABX9TyM+4myttLPaXMTq8SsSL9D1",
      "include_colab_link": true
    },
    "kernelspec": {
      "name": "python3",
      "display_name": "Python 3"
    },
    "language_info": {
      "name": "python"
    }
  },
  "cells": [
    {
      "cell_type": "markdown",
      "metadata": {
        "id": "view-in-github",
        "colab_type": "text"
      },
      "source": [
        "<a href=\"https://colab.research.google.com/github/Dracomp89/Eduardo-Phillips---202115611-Juan-Esteban-Sanchez---202213476/blob/main/Tarea5/Tarea_5.ipynb\" target=\"_parent\"><img src=\"https://colab.research.google.com/assets/colab-badge.svg\" alt=\"Open In Colab\"/></a>"
      ]
    },
    {
      "cell_type": "markdown",
      "source": [
        "Punto 3"
      ],
      "metadata": {
        "id": "0zfKyelY_X_P"
      }
    },
    {
      "cell_type": "code",
      "execution_count": 6,
      "metadata": {
        "id": "WZ0Jc88K_WY9"
      },
      "outputs": [],
      "source": [
        "import numpy as np\n",
        "\n",
        "class SistemaLineal:\n",
        "    def __init__(self, A, b, tol=1e-10, max_iter=1000):\n",
        "        \"\"\"\n",
        "        Constructor de la clase que recibe la matriz de coeficientes (A) y el vector independiente (b).\n",
        "        Parámetros:\n",
        "        - A: Matriz de coeficientes.\n",
        "        - b: Vector de términos independientes.\n",
        "        - tol: Tolerancia para el criterio de convergencia.\n",
        "        - max_iter: Máximo número de iteraciones permitidas.\n",
        "        \"\"\"\n",
        "        self.A = np.array(A, dtype=float)\n",
        "        self.b = np.array(b, dtype=float)\n",
        "        self.tol = tol\n",
        "        self.max_iter = max_iter\n",
        "        self.n = len(b)  # número de ecuaciones\n",
        "\n",
        "    def jacobi(self):\n",
        "        \"\"\"\n",
        "        Resuelve el sistema usando el método iterativo de Jacobi.\n",
        "        Devuelve la solución aproximada y el número de iteraciones.\n",
        "        \"\"\"\n",
        "        x_old = np.zeros_like(self.b)  # inicialización en cero\n",
        "        x_new = np.zeros_like(self.b)  # vector de la nueva solución\n",
        "        iteraciones = 0\n",
        "\n",
        "        for k in range(self.max_iter):\n",
        "            iteraciones += 1\n",
        "            for i in range(self.n):\n",
        "                sumatoria = sum(self.A[i, j] * x_old[j] for j in range(self.n) if j != i)\n",
        "                x_new[i] = (self.b[i] - sumatoria) / self.A[i, i]\n",
        "\n",
        "            # Verificar la convergencia\n",
        "            if np.linalg.norm(x_new - x_old, ord=np.inf) < self.tol:\n",
        "                print(f\"Jacobi convergió en {iteraciones} iteraciones.\")\n",
        "                return x_new, iteraciones\n",
        "\n",
        "            x_old = x_new.copy()\n",
        "\n",
        "        print(\"Jacobi no convergió en el número máximo de iteraciones.\")\n",
        "        return x_new, iteraciones\n",
        "\n",
        "    def gauss_seidel(self):\n",
        "        \"\"\"\n",
        "        Resuelve el sistema usando el método iterativo de Gauss-Seidel.\n",
        "        Devuelve la solución aproximada y el número de iteraciones.\n",
        "        \"\"\"\n",
        "        x = np.zeros_like(self.b)  # inicialización en cero\n",
        "        iteraciones = 0\n",
        "\n",
        "        for k in range(self.max_iter):\n",
        "            iteraciones += 1\n",
        "            x_old = x.copy()\n",
        "\n",
        "            for i in range(self.n):\n",
        "                sumatoria1 = sum(self.A[i, j] * x[j] for j in range(i))  # ya calculados\n",
        "                sumatoria2 = sum(self.A[i, j] * x_old[j] for j in range(i + 1, self.n))  # pendientes\n",
        "                x[i] = (self.b[i] - sumatoria1 - sumatoria2) / self.A[i, i]\n",
        "\n",
        "            # Verificar la convergencia\n",
        "            if np.linalg.norm(x - x_old, ord=np.inf) < self.tol:\n",
        "                print(f\"Gauss-Seidel convergió en {iteraciones} iteraciones.\")\n",
        "                return x, iteraciones\n",
        "\n",
        "        print(\"Gauss-Seidel no convergió en el número máximo de iteraciones.\")\n",
        "        return x, iteraciones\n"
      ]
    },
    {
      "cell_type": "markdown",
      "source": [
        "Punto 4"
      ],
      "metadata": {
        "id": "0aonk2xZAj6M"
      }
    },
    {
      "cell_type": "code",
      "source": [
        "import numpy as np\n",
        "\n",
        "def multiplicar_matrices(A, B):\n",
        "    \"\"\"\n",
        "    Multiplica dos matrices A y B.\n",
        "    Parámetros:\n",
        "    - A: Matriz de dimensiones m x n.\n",
        "    - B: Matriz de dimensiones n x p.\n",
        "\n",
        "    Retorna:\n",
        "    - C: Matriz resultado de la multiplicación A x B.\n",
        "    \"\"\"\n",
        "    # Obtener las dimensiones de las matrices\n",
        "    filas_A = len(A)\n",
        "    columnas_A = len(A[0])\n",
        "    filas_B = len(B)\n",
        "    columnas_B = len(B[0])\n",
        "\n",
        "    # Verificar si la multiplicación es posible (columnas de A = filas de B)\n",
        "    if columnas_A != filas_B:\n",
        "        raise ValueError(\"El número de columnas de A debe ser igual al número de filas de B\")\n",
        "\n",
        "    # Crear la matriz resultante C con ceros\n",
        "    C = np.zeros((filas_A, columnas_B))\n",
        "\n",
        "    # Realizar la multiplicación de matrices\n",
        "    for i in range(filas_A):\n",
        "        for j in range(columnas_B):\n",
        "            for k in range(columnas_A):  # o filas_B, dado que son iguales\n",
        "                C[i][j] += A[i][k] * B[k][j]\n",
        "\n",
        "    return C\n",
        "\n",
        "# Definición de las matrices A y B\n",
        "A = [\n",
        "    [1, 0, 0],\n",
        "    [5, 1, 0],\n",
        "    [-2, 3, 1]\n",
        "]\n",
        "\n",
        "B = [\n",
        "    [4, -2, 1],\n",
        "    [0, 3, 7],\n",
        "    [0, 0, 2]\n",
        "]\n",
        "\n",
        "# Calcular el producto AB\n",
        "resultado = multiplicar_matrices(A, B)\n",
        "print(\"El resultado de la multiplicación AB es:\")\n",
        "print(resultado)\n"
      ],
      "metadata": {
        "colab": {
          "base_uri": "https://localhost:8080/"
        },
        "id": "B6v66xnZAk4p",
        "outputId": "b5741d23-cb17-4037-d854-80cdac69403e"
      },
      "execution_count": 7,
      "outputs": [
        {
          "output_type": "stream",
          "name": "stdout",
          "text": [
            "El resultado de la multiplicación AB es:\n",
            "[[ 4. -2.  1.]\n",
            " [20. -7. 12.]\n",
            " [-8. 13. 21.]]\n"
          ]
        }
      ]
    },
    {
      "cell_type": "markdown",
      "source": [
        "Punto 5"
      ],
      "metadata": {
        "id": "fcrtvdC0TQ0x"
      }
    },
    {
      "cell_type": "markdown",
      "source": [
        "5.\n",
        "\n",
        "$\n",
        "\\begin{aligned} A_{00}x_0 &= b_0, \\\\ A_{10}x_0 + A_{11}x_1 &= b_1, \\\\ A_{20}x_0 + A_{21}x_1 + A_{22}x_2 &= b_2, \\\\ &\\vdots \\\\ A_{i0}x_0 + A_{i1}x_1 + \\dots + A_{ii}x_i &= b_i. \\end{aligned}\n",
        "$\n",
        "\n",
        "\n",
        "\n",
        "Primera Ecuación ($i=0$):\n",
        "\n",
        "$A_{00}x_0 = b_0$\n",
        "\n",
        "Como $A_{00} \\neq 0$ despejamos $x_0$:\n",
        "\n",
        "$x_0 = \\frac{b_0}{A_{00}}$\n",
        "Segunda Ecuación ($i=1$):\n",
        "$A_{10}x_0 + A_{11}x_1 = b_1$\n",
        "\n",
        "Usando el valor de $x_0$ obtenido anteriormente, despejamos $x_1$:\n",
        "\n",
        "$x_1 = \\frac{b_1 - A_{10}x_0}{A_{11}}$\n",
        "\n",
        "Tercera Ecuación ($i=2$):\n",
        "$A_{20}x_0 + A_{21}x_1 + A_{22}x_2 = b_2$\n",
        "\n",
        "Sustituyendo los valores de $x_0$ y $x_1$, despejamos $x_2$:\n",
        "\n",
        "$x_2 = \\frac{b_2 - (A_{20}x_0 + A_{21}x_1)}{A_{22}}$\n",
        "\n",
        "i-ésima ecuación ($i=i$)\n",
        "$A_{i0}x_0 + A_{i1}x_1 + \\dots + A_{ii}x_i = b_i$\n",
        "\n",
        "Despejamos $x_i$:\n",
        "\n",
        "$x_i = \\frac{b_i - \\left( \\sum_{j=0}^{i-1} A_{ij}x_j \\right)}{A_{ii}}$"
      ],
      "metadata": {
        "id": "lW6jADj9TsjG"
      }
    },
    {
      "cell_type": "markdown",
      "source": [
        "Punto 6"
      ],
      "metadata": {
        "id": "tFCA_JeoW2wL"
      }
    },
    {
      "cell_type": "markdown",
      "source": [
        "6.\n",
        "\n",
        "$\\begin{aligned} A_{nn}x_n &= b_n, \\\\ A_{(n-1)(n-1)}x_{n-1} + A_{(n-1)n}x_n &= b_{n-1}, \\\\ A_{(n-2)(n-2)}x_{n-2} + A_{(n-2)(n-1)}x_{n-1} + A_{(n-2)n}x_n &= b_{n-2}, \\\\ &\\vdots \\\\ A_{00}x_0 + A_{01}x_1 + \\dots + A_{0n}x_n &= b_0. \\end{aligned}$\n",
        "\n",
        "\n",
        "Última ecuación $i=n$:\n",
        "\n",
        "$A_{nn}x_n = b_n$\n",
        "\n",
        "Como $A_{nn} \\neq 0$, despejamos $x_n$:\n",
        "\n",
        "$x_n = \\frac{b_n}{A_{nn}}$\n",
        "\n",
        "Ecuación para $i=n−1$\n",
        "\n",
        "$A_{(n-1)(n-1)}x_{n-1} + A_{(n-1)n}x_n = b_{n-1}$\n",
        "\n",
        "Usando el valor de $x_n$ calculado anteriormente, despejamos $x_{n-1}$:\n",
        "\n",
        "$x_{n-1} = \\frac{b_{n-1} - A_{(n-1)n}x_n}{A_{(n-1)(n-1)}}$\n",
        "\n",
        "Ecuación para $i=n−2$:\n",
        "\n",
        "$A_{(n-2)(n-2)}x_{n-2} + A_{(n-2)(n-1)}x_{n-1} + A_{(n-2)n}x_n = b_{n-2}$\n",
        "\n",
        "Sustituyendo los valores de $x_{n-1}$ y $x_n$, despejamos $x_{n-2}$:\n",
        "\n",
        "$x_{n-2} = \\frac{b_{n-2} - \\left( A_{(n-2)(n-1)}x_{n-1} + A_{(n-2)n}x_n \\right)}{A_{(n-2)(n-2)}}$\n",
        "\n",
        "ecuación para $i$:\n",
        "\n",
        "$A_{ii}x_i + \\sum_{j=i+1}^{n} A_{ij}x_j = b_i$\n",
        "\n",
        "Usando los valores ya calculados de $x_{i+1}, x_{i+2}, \\dots, x_n$ , despejamos $x_i$:\n",
        "\n",
        "$x_i = \\frac{b_i - \\sum_{j=i+1}^{n} A_{ij}x_j}{A_{ii}}$"
      ],
      "metadata": {
        "id": "x1Zm5V0rW-8G"
      }
    },
    {
      "cell_type": "markdown",
      "source": [
        "Punto 10"
      ],
      "metadata": {
        "id": "Hvo2PzygBNGO"
      }
    },
    {
      "cell_type": "code",
      "source": [],
      "metadata": {
        "id": "8lzgDYPnVi7q"
      },
      "execution_count": null,
      "outputs": []
    },
    {
      "cell_type": "markdown",
      "source": [
        "Punto 12"
      ],
      "metadata": {
        "id": "_qsiDJ8yUOc7"
      }
    },
    {
      "cell_type": "code",
      "source": [],
      "metadata": {
        "id": "NFfQKAABVicx"
      },
      "execution_count": null,
      "outputs": []
    },
    {
      "cell_type": "markdown",
      "source": [
        "Punto 13"
      ],
      "metadata": {
        "id": "fGaxQ9rxU2gA"
      }
    },
    {
      "cell_type": "code",
      "source": [
        "import numpy as np\n",
        "\n",
        "def jacobiano_cuarto_orden(f, x, h=0.01):\n",
        "    \"\"\"\n",
        "    Estima el Jacobiano de la función vectorial f en el punto x\n",
        "    usando un operador de derivada de cuarto orden con paso h.\n",
        "\n",
        "    f: Función vectorial a derivar (debe devolver un vector)\n",
        "    x: Punto donde se evalúa el Jacobiano\n",
        "    h: Paso para la aproximación\n",
        "    \"\"\"\n",
        "    n = len(x)      # Dimensión del punto x\n",
        "    m = len(f(x))   # Dimensión de la función vectorial f\n",
        "    J = np.zeros((m, n))  # Inicializar la matriz Jacobiana\n",
        "\n",
        "    for i in range(n):\n",
        "        # Crear un vector de desplazamiento en la i-ésima dirección\n",
        "        e = np.zeros_like(x)\n",
        "        e[i] = 1\n",
        "\n",
        "        # Estimar derivada de cuarto orden respecto a la i-ésima variable\n",
        "        J[:, i] = (-f(x + 2*h*e) + 8*f(x + h*e) - 8*f(x - h*e) + f(x - 2*h*e)) / (12 * h)\n",
        "\n",
        "    return J\n",
        "\n",
        "# Ejemplo de uso con una función vectorial\n",
        "def F(x):\n",
        "    return np.array([x[0]**2 + x[1]**2 + x[2]**2, x[0] * x[1] * x[2], np.sin(x[0] + x[1] + x[2])])\n",
        "\n",
        "# Punto de evaluación\n",
        "x = np.array([0.5, 0.5, 0.5])\n",
        "\n",
        "# Estimación del Jacobiano en el punto x\n",
        "J_cuarto_orden = jacobiano_cuarto_orden(F, x, h=0.01)\n",
        "print(\"Jacobiano de cuarto orden en x:\", J_cuarto_orden)\n",
        "def jacobiano_segundo_orden(f, x, h=0.01):\n",
        "    \"\"\"\n",
        "    Estima el Jacobiano de la función vectorial f en el punto x\n",
        "    usando un operador de derivada de segundo orden con paso h.\n",
        "\n",
        "    f: Función vectorial a derivar (debe devolver un vector)\n",
        "    x: Punto donde se evalúa el Jacobiano\n",
        "    h: Paso para la aproximación\n",
        "    \"\"\"\n",
        "    n = len(x)\n",
        "    m = len(f(x))\n",
        "    J = np.zeros((m, n))\n",
        "\n",
        "    for i in range(n):\n",
        "        e = np.zeros_like(x)\n",
        "        e[i] = 1\n",
        "\n",
        "        J[:, i] = (f(x + h*e) - f(x - h*e)) / (2 * h)\n",
        "\n",
        "    return J\n",
        "\n",
        "# Estimación del Jacobiano con segundo orden en el mismo punto\n",
        "J_segundo_orden = jacobiano_segundo_orden(F, x, h=0.01)\n",
        "print(\"Jacobiano de segundo orden en x:\", J_segundo_orden)\n",
        "def comparar_jacobianos(f, x, h_values):\n",
        "    \"\"\"\n",
        "    Compara los Jacobianos de segundo y cuarto orden para diferentes valores de h.\n",
        "    \"\"\"\n",
        "    for h in h_values:\n",
        "        J_2 = jacobiano_segundo_orden(f, x, h)\n",
        "        J_4 = jacobiano_cuarto_orden(f, x, h)\n",
        "        error = np.linalg.norm(J_2 - J_4)\n",
        "        print(f\"h = {h}: error entre segundo y cuarto orden = {error}\")\n",
        "\n",
        "# Valores de h a probar\n",
        "h_values = [0.1, 0.05, 0.01, 0.005, 0.001]\n",
        "\n",
        "comparar_jacobianos(F, x, h_values)\n"
      ],
      "metadata": {
        "colab": {
          "base_uri": "https://localhost:8080/"
        },
        "id": "GoYThJ46U37-",
        "outputId": "8f519b97-6c27-4b36-fa6c-7cae064d1cb5"
      },
      "execution_count": 17,
      "outputs": [
        {
          "output_type": "stream",
          "name": "stdout",
          "text": [
            "Jacobiano de cuarto orden en x: [[1.        1.        1.       ]\n",
            " [0.25      0.25      0.25     ]\n",
            " [0.0707372 0.0707372 0.0707372]]\n",
            "Jacobiano de segundo orden en x: [[1.         1.         1.        ]\n",
            " [0.25       0.25       0.25      ]\n",
            " [0.07073602 0.07073602 0.07073602]]\n",
            "h = 0.1: error entre segundo y cuarto orden = 0.0002036907205570962\n",
            "h = 0.05: error entre segundo y cuarto orden = 5.1018279644268366e-05\n",
            "h = 0.01: error entre segundo y cuarto orden = 2.0419560773415795e-06\n",
            "h = 0.005: error entre segundo y cuarto orden = 5.104985928892588e-07\n",
            "h = 0.001: error entre segundo y cuarto orden = 2.042010102166809e-08\n"
          ]
        }
      ]
    },
    {
      "cell_type": "markdown",
      "source": [
        "Punto 14"
      ],
      "metadata": {
        "id": "jBHwtvtqUwmh"
      }
    },
    {
      "cell_type": "code",
      "source": [
        "#Punto 14\n",
        "import sympy as sp\n",
        "\n",
        "# Jx, Jy, Jz con simpy\n",
        "J_x = sp.Matrix([[0, 0, 0], [0, 0, -1], [0, 1, 0]])\n",
        "J_y = sp.Matrix([[0, 0, 1], [0, 0, 0], [-1, 0, 0]])\n",
        "J_z = sp.Matrix([[0, -1, 0], [1, 0, 0], [0, 0, 0]])\n",
        "\n",
        "def levicivita(i, j, k):\n",
        "    if (i, j, k) in [(1, 2, 3), (2, 3, 1), (3, 1, 2)]:\n",
        "        return 1\n",
        "    elif (i, j, k) in [(3, 2, 1), (1, 3, 2), (2, 1, 3)]:\n",
        "        return -1\n",
        "    else:\n",
        "        return 0\n",
        "\n",
        "# Compute the commutators\n",
        "ordenxy = J_x * J_y - J_y * J_x\n",
        "ordenxz = J_x * J_z - J_z * J_x\n",
        "ordenyz = J_y * J_z - J_z * J_y\n",
        "\n",
        "print(\"[J_x, J_y\",  ordenxy, levicivita(1, 2, 3))\n",
        "print( \"[J_x, J_z\",  ordenxz, levicivita(2, 1, 3))\n",
        "print( \"[J_y, J_z\",  ordenyz, levicivita(2, 2, 18))"
      ],
      "metadata": {
        "colab": {
          "base_uri": "https://localhost:8080/"
        },
        "id": "YkmCgkNKUv8O",
        "outputId": "b1f25e05-3d85-492c-95ea-eedb5f2dc136"
      },
      "execution_count": 14,
      "outputs": [
        {
          "output_type": "stream",
          "name": "stdout",
          "text": [
            "[J_x, J_y Matrix([[0, -1, 0], [1, 0, 0], [0, 0, 0]]) 1\n",
            "[J_x, J_z Matrix([[0, 0, -1], [0, 0, 0], [1, 0, 0]]) -1\n",
            "[J_y, J_z Matrix([[0, 0, 0], [0, 0, -1], [0, 1, 0]]) 0\n"
          ]
        }
      ]
    }
  ]
}