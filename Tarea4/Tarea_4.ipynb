{
  "nbformat": 4,
  "nbformat_minor": 0,
  "metadata": {
    "colab": {
      "provenance": [],
      "authorship_tag": "ABX9TyMB0VxhXQyIsC/chSnKbuBH",
      "include_colab_link": true
    },
    "kernelspec": {
      "name": "python3",
      "display_name": "Python 3"
    },
    "language_info": {
      "name": "python"
    }
  },
  "cells": [
    {
      "cell_type": "markdown",
      "metadata": {
        "id": "view-in-github",
        "colab_type": "text"
      },
      "source": [
        "<a href=\"https://colab.research.google.com/github/Dracomp89/Eduardo-Phillips---202115611-Juan-Esteban-Sanchez---202213476/blob/main/Tarea4/Tarea_4.ipynb\" target=\"_parent\"><img src=\"https://colab.research.google.com/assets/colab-badge.svg\" alt=\"Open In Colab\"/></a>"
      ]
    },
    {
      "cell_type": "markdown",
      "source": [
        "Punto 3"
      ],
      "metadata": {
        "id": "0zfKyelY_X_P"
      }
    },
    {
      "cell_type": "code",
      "execution_count": 6,
      "metadata": {
        "id": "WZ0Jc88K_WY9"
      },
      "outputs": [],
      "source": [
        "import numpy as np\n",
        "\n",
        "class SistemaLineal:\n",
        "    def __init__(self, A, b, tol=1e-10, max_iter=1000):\n",
        "\n",
        "        self.A = np.array(A, dtype=float)\n",
        "        self.b = np.array(b, dtype=float)\n",
        "        self.tol = tol\n",
        "        self.max_iter = max_iter\n",
        "        self.n = len(b)\n",
        "\n",
        "    def jacobi(self):\n",
        "\n",
        "        x_old = np.zeros_like(self.b)\n",
        "        x_new = np.zeros_like(self.b)\n",
        "        iteraciones = 0\n",
        "\n",
        "        for k in range(self.max_iter):\n",
        "            iteraciones += 1\n",
        "            for i in range(self.n):\n",
        "                sumatoria = sum(self.A[i, j] * x_old[j] for j in range(self.n) if j != i)\n",
        "                x_new[i] = (self.b[i] - sumatoria) / self.A[i, i]\n",
        "\n",
        "\n",
        "            if np.linalg.norm(x_new - x_old, ord=np.inf) < self.tol:\n",
        "                print(f\"Jacobi convergió en {iteraciones} iteraciones.\")\n",
        "                return x_new, iteraciones\n",
        "\n",
        "            x_old = x_new.copy()\n",
        "\n",
        "        print(\"Jacobi no convergió en el número máximo de iteraciones.\")\n",
        "        return x_new, iteraciones\n",
        "\n",
        "    def gauss_seidel(self):\n",
        "\n",
        "        x = np.zeros_like(self.b)\n",
        "        iteraciones = 0\n",
        "\n",
        "        for k in range(self.max_iter):\n",
        "            iteraciones += 1\n",
        "            x_old = x.copy()\n",
        "\n",
        "            for i in range(self.n):\n",
        "                sumatoria1 = sum(self.A[i, j] * x[j] for j in range(i))\n",
        "                sumatoria2 = sum(self.A[i, j] * x_old[j] for j in range(i + 1, self.n))\n",
        "                x[i] = (self.b[i] - sumatoria1 - sumatoria2) / self.A[i, i]\n",
        "\n",
        "\n",
        "            if np.linalg.norm(x - x_old, ord=np.inf) < self.tol:\n",
        "                print(f\"Gauss-Seidel convergió en {iteraciones} iteraciones.\")\n",
        "                return x, iteraciones\n",
        "\n",
        "        print(\"Gauss-Seidel no convergió en el número máximo de iteraciones.\")\n",
        "        return x, iteraciones\n"
      ]
    },
    {
      "cell_type": "markdown",
      "source": [
        "Punto 4"
      ],
      "metadata": {
        "id": "0aonk2xZAj6M"
      }
    },
    {
      "cell_type": "code",
      "source": [
        "import numpy as np\n",
        "\n",
        "def multiplicar_matrices(A, B):\n",
        "\n",
        "\n",
        "    filas_A = len(A)\n",
        "    columnas_A = len(A[0])\n",
        "    filas_B = len(B)\n",
        "    columnas_B = len(B[0])\n",
        "\n",
        "\n",
        "    if columnas_A != filas_B:\n",
        "        raise ValueError(\"El número de columnas de A debe ser igual al número de filas de B\")\n",
        "\n",
        "\n",
        "    C = np.zeros((filas_A, columnas_B))\n",
        "\n",
        "\n",
        "    for i in range(filas_A):\n",
        "        for j in range(columnas_B):\n",
        "            for k in range(columnas_A):\n",
        "                C[i][j] += A[i][k] * B[k][j]\n",
        "\n",
        "    return C\n",
        "\n",
        "\n",
        "A = [\n",
        "    [1, 0, 0],\n",
        "    [5, 1, 0],\n",
        "    [-2, 3, 1]\n",
        "]\n",
        "\n",
        "B = [\n",
        "    [4, -2, 1],\n",
        "    [0, 3, 7],\n",
        "    [0, 0, 2]\n",
        "]\n",
        "\n",
        "\n",
        "resultado = multiplicar_matrices(A, B)\n",
        "print(\"El resultado de la multiplicación AB es:\")\n",
        "print(resultado)\n"
      ],
      "metadata": {
        "colab": {
          "base_uri": "https://localhost:8080/"
        },
        "id": "B6v66xnZAk4p",
        "outputId": "5251e3de-702f-4ed9-93a9-0aafe9a17416"
      },
      "execution_count": 18,
      "outputs": [
        {
          "output_type": "stream",
          "name": "stdout",
          "text": [
            "El resultado de la multiplicación AB es:\n",
            "[[ 4. -2.  1.]\n",
            " [20. -7. 12.]\n",
            " [-8. 13. 21.]]\n"
          ]
        }
      ]
    },
    {
      "cell_type": "markdown",
      "source": [
        "Punto 5"
      ],
      "metadata": {
        "id": "fcrtvdC0TQ0x"
      }
    },
    {
      "cell_type": "markdown",
      "source": [
        "5.\n",
        "\n",
        "$\n",
        "\\begin{aligned} A_{00}x_0 &= b_0, \\\\ A_{10}x_0 + A_{11}x_1 &= b_1, \\\\ A_{20}x_0 + A_{21}x_1 + A_{22}x_2 &= b_2, \\\\ &\\vdots \\\\ A_{i0}x_0 + A_{i1}x_1 + \\dots + A_{ii}x_i &= b_i. \\end{aligned}\n",
        "$\n",
        "\n",
        "\n",
        "\n",
        "Primera Ecuación ($i=0$):\n",
        "\n",
        "$A_{00}x_0 = b_0$\n",
        "\n",
        "Como $A_{00} \\neq 0$ despejamos $x_0$:\n",
        "\n",
        "$x_0 = \\frac{b_0}{A_{00}}$\n",
        "Segunda Ecuación ($i=1$):\n",
        "$A_{10}x_0 + A_{11}x_1 = b_1$\n",
        "\n",
        "Usando el valor de $x_0$ obtenido anteriormente, despejamos $x_1$:\n",
        "\n",
        "$x_1 = \\frac{b_1 - A_{10}x_0}{A_{11}}$\n",
        "\n",
        "Tercera Ecuación ($i=2$):\n",
        "$A_{20}x_0 + A_{21}x_1 + A_{22}x_2 = b_2$\n",
        "\n",
        "Sustituyendo los valores de $x_0$ y $x_1$, despejamos $x_2$:\n",
        "\n",
        "$x_2 = \\frac{b_2 - (A_{20}x_0 + A_{21}x_1)}{A_{22}}$\n",
        "\n",
        "i-ésima ecuación ($i=i$)\n",
        "$A_{i0}x_0 + A_{i1}x_1 + \\dots + A_{ii}x_i = b_i$\n",
        "\n",
        "Despejamos $x_i$:\n",
        "\n",
        "$x_i = \\frac{b_i - \\left( \\sum_{j=0}^{i-1} A_{ij}x_j \\right)}{A_{ii}}$"
      ],
      "metadata": {
        "id": "lW6jADj9TsjG"
      }
    },
    {
      "cell_type": "markdown",
      "source": [
        "Punto 6"
      ],
      "metadata": {
        "id": "tFCA_JeoW2wL"
      }
    },
    {
      "cell_type": "markdown",
      "source": [
        "6.\n",
        "\n",
        "$\\begin{aligned} A_{nn}x_n &= b_n, \\\\ A_{(n-1)(n-1)}x_{n-1} + A_{(n-1)n}x_n &= b_{n-1}, \\\\ A_{(n-2)(n-2)}x_{n-2} + A_{(n-2)(n-1)}x_{n-1} + A_{(n-2)n}x_n &= b_{n-2}, \\\\ &\\vdots \\\\ A_{00}x_0 + A_{01}x_1 + \\dots + A_{0n}x_n &= b_0. \\end{aligned}$\n",
        "\n",
        "\n",
        "Última ecuación $i=n$:\n",
        "\n",
        "$A_{nn}x_n = b_n$\n",
        "\n",
        "Como $A_{nn} \\neq 0$, despejamos $x_n$:\n",
        "\n",
        "$x_n = \\frac{b_n}{A_{nn}}$\n",
        "\n",
        "Ecuación para $i=n−1$\n",
        "\n",
        "$A_{(n-1)(n-1)}x_{n-1} + A_{(n-1)n}x_n = b_{n-1}$\n",
        "\n",
        "Usando el valor de $x_n$ calculado anteriormente, despejamos $x_{n-1}$:\n",
        "\n",
        "$x_{n-1} = \\frac{b_{n-1} - A_{(n-1)n}x_n}{A_{(n-1)(n-1)}}$\n",
        "\n",
        "Ecuación para $i=n−2$:\n",
        "\n",
        "$A_{(n-2)(n-2)}x_{n-2} + A_{(n-2)(n-1)}x_{n-1} + A_{(n-2)n}x_n = b_{n-2}$\n",
        "\n",
        "Sustituyendo los valores de $x_{n-1}$ y $x_n$, despejamos $x_{n-2}$:\n",
        "\n",
        "$x_{n-2} = \\frac{b_{n-2} - \\left( A_{(n-2)(n-1)}x_{n-1} + A_{(n-2)n}x_n \\right)}{A_{(n-2)(n-2)}}$\n",
        "\n",
        "ecuación para $i$:\n",
        "\n",
        "$A_{ii}x_i + \\sum_{j=i+1}^{n} A_{ij}x_j = b_i$\n",
        "\n",
        "Usando los valores ya calculados de $x_{i+1}, x_{i+2}, \\dots, x_n$ , despejamos $x_i$:\n",
        "\n",
        "$x_i = \\frac{b_i - \\sum_{j=i+1}^{n} A_{ij}x_j}{A_{ii}}$"
      ],
      "metadata": {
        "id": "x1Zm5V0rW-8G"
      }
    },
    {
      "cell_type": "markdown",
      "source": [
        "Punto 8"
      ],
      "metadata": {
        "id": "BIViIriPiqVS"
      }
    },
    {
      "cell_type": "markdown",
      "source": [
        "$A = \\begin{pmatrix} 4 & -2 & 1 \\\\ 20 & -7 & 12 \\\\ -8 & 13 & 17 \\end{pmatrix}$\n",
        "\n",
        "$L = \\begin{pmatrix} 1 & 0 & 0 \\\\ 0 & 1 & 0 \\\\ 0 & 0 & 1 \\end{pmatrix}, \\quad U = A = \\begin{pmatrix} 4 & -2 & 1 \\\\ 20 & -7 & 12 \\\\ -8 & 13 & 17 \\end{pmatrix}$\n",
        "\n",
        "Primer columna\n",
        "\n",
        "1.Eliminar el elemento $U_{21}$ (en la fila 2, columna 1):\n",
        "\n",
        "Restamos $5$ veces la primera fila de la segunda fila:\n",
        "\n",
        "$\\text{Fila 2} = \\text{Fila 2} - 5 *\\text{Fila 1}$\n",
        "\n",
        "$L = \\begin{pmatrix} 1 & 0 & 0 \\\\ 5 & 1 & 0 \\\\ 0 & 0 & 1 \\end{pmatrix}, \\quad U = \\begin{pmatrix} 4 & -2 & 1 \\\\ 0 & -7 & 12 \\\\ -8 & 13 & 17 \\end{pmatrix}$\n",
        "\n",
        "2.Eliminar el elemento $U_{31}$ (en la fila 3, columna 1):\n",
        "\n",
        "\n",
        "\n",
        "Restamos $-2$ veces la primera fila de la tercera fila:\n",
        "\n",
        "$\\text{Fila 3} = \\text{Fila 3} + 2\\text{Fila 1}$\n",
        "\n",
        "\n",
        "$L = \\begin{pmatrix} 1 & 0 & 0 \\\\ 5 & 1 & 0 \\\\ -2 & 0 & 1 \\end{pmatrix}, \\quad U = \\begin{pmatrix} 4 & -2 & 1 \\\\ 0 & 3 & 7 \\\\ 0 & 9 & 19 \\end{pmatrix}$\n",
        "\n",
        "\n",
        "Segunda columna\n",
        "\n",
        "\n",
        "1.Eliminar el elemento $U_{32}$:\n",
        "\n",
        "Restamos $3$ veces la segunda fila de la tercera fila:\n",
        "\n",
        "$\\text{Fila 3} = \\text{Fila 3} - 3 \\times \\text{Fila 2}$\n",
        "\n",
        "$L = \\begin{pmatrix} 1 & 0 & 0 \\\\ 5 & 1 & 0 \\\\ -2 & 3 & 1 \\end{pmatrix}, \\quad U = \\begin{pmatrix} 4 & -2 & 1 \\\\ 0 & 3 & 7 \\\\ 0 & 0 & -2 \\end{pmatrix}$\n",
        "\n",
        "Estas son las matrices LU esperadas"
      ],
      "metadata": {
        "id": "aumWgSLnitC3"
      }
    },
    {
      "cell_type": "markdown",
      "source": [
        "Punto 10"
      ],
      "metadata": {
        "id": "Hvo2PzygBNGO"
      }
    },
    {
      "cell_type": "code",
      "source": [],
      "metadata": {
        "id": "8lzgDYPnVi7q"
      },
      "execution_count": null,
      "outputs": []
    },
    {
      "cell_type": "markdown",
      "source": [
        "Punto 12"
      ],
      "metadata": {
        "id": "_qsiDJ8yUOc7"
      }
    },
    {
      "cell_type": "code",
      "source": [
        "import numpy as np\n",
        "\n",
        "def metodo_newton_raphson(sistema_funciones, jacobiano, valor_inicial, tolerancia=1e-8, max_iteraciones=100):\n",
        "    solucion_actual = valor_inicial.copy()\n",
        "    for iteracion in range(max_iteraciones):\n",
        "        valor_funciones = sistema_funciones(solucion_actual)\n",
        "        valor_jacobiano = jacobiano(solucion_actual)\n",
        "\n",
        "        try:\n",
        "            cambio = np.linalg.solve(valor_jacobiano, -valor_funciones)\n",
        "        except np.linalg.LinAlgError:\n",
        "            print(\"Error: Jacobiano singular.\")\n",
        "            return solucion_actual\n",
        "\n",
        "        solucion_actual += cambio\n",
        "\n",
        "        if np.linalg.norm(cambio, ord=2) < tolerancia:\n",
        "            print(f\"Convergencia alcanzada en {iteracion + 1} iteraciones.\")\n",
        "            return solucion_actual\n",
        "    print(\"No se alcanzó la convergencia.\")\n",
        "    return solucion_actual\n",
        "\n",
        "def ecuacion_1(solucion):\n",
        "    x1, x2 = solucion\n",
        "    return np.log(2 * x1 + 2 * x2) - np.sin(x1 * x2) - np.log(2) - np.log(np.pi)\n",
        "\n",
        "def ecuacion_2(solucion):\n",
        "    x1, x2 = solucion\n",
        "    return np.exp(x1 - x2) + np.cos(x1 * x2)\n",
        "\n",
        "def sistema_ecuaciones(solucion):\n",
        "    return np.array([ecuacion_1(solucion), ecuacion_2(solucion)])\n",
        "\n",
        "def jacobiano_sistema(solucion):\n",
        "    x1, x2 = solucion\n",
        "    denominador = 2 * x1 + 2 * x2\n",
        "    J11 = (2 * x1) / denominador - x2 * np.cos(x1 * x2)\n",
        "    J12 = (2 * x2) / denominador - x1 * np.cos(x1 * x2)\n",
        "    J21 = np.exp(x1 - x2) - x2 * np.sin(x1 * x2)\n",
        "    J22 = -np.exp(x1 - x2) - x1 * np.sin(x1 * x2)\n",
        "    return np.array([[J11, J12], [J21, J22]])\n",
        "\n",
        "valor_inicial = np.array([2.0, 2.0])\n",
        "\n",
        "solucion_newton_raphson = metodo_newton_raphson(sistema_ecuaciones, jacobiano_sistema, valor_inicial)\n",
        "print(\"Solución (Newton-Raphson):\", solucion_newton_raphson)\n",
        "\n",
        "def metodo_descenso_gradiente(sistema_funciones, jacobiano, valor_inicial, tasa_aprendizaje=0.01, tolerancia=1e-8, max_iteraciones=1000):\n",
        "    solucion_actual = valor_inicial.copy()\n",
        "    for iteracion in range(max_iteraciones):\n",
        "        valor_funciones = sistema_funciones(solucion_actual)\n",
        "        gradiente = jacobiano(solucion_actual).T @ valor_funciones\n",
        "\n",
        "        nueva_solucion = solucion_actual - tasa_aprendizaje * gradiente\n",
        "\n",
        "        if np.linalg.norm(nueva_solucion - solucion_actual, ord=2) < tolerancia:\n",
        "            print(f\"Convergencia alcanzada en {iteracion + 1} iteraciones.\")\n",
        "            return nueva_solucion\n",
        "        solucion_actual = nueva_solucion\n",
        "    print(\"No se alcanzó la convergencia.\")\n",
        "    return solucion_actual\n",
        "\n",
        "solucion_descenso_gradiente = metodo_descenso_gradiente(sistema_ecuaciones, jacobiano_sistema, valor_inicial)\n",
        "print(\"Solución (Descenso del Gradiente):\", solucion_descenso_gradiente)\n",
        "\n",
        "def sistema_ecuaciones_2(solucion):\n",
        "    x1, x2, x3 = solucion\n",
        "    f1 = 6 * x1 - 2 * np.cos(x2 * x3) - 1\n",
        "    f2 = 9 * x2 + np.sqrt(x1**2 + np.sin(x3) + 1.06) + 0.9\n",
        "    f3 = 60 * x3 + 3 * np.exp(-x1 * x2) + 10 * np.pi - 3\n",
        "    return np.array([f1, f2, f3])\n",
        "\n",
        "def jacobiano_sistema_2(solucion):\n",
        "    x1, x2, x3 = solucion\n",
        "    J = np.zeros((3, 3))\n",
        "    J[0, 0] = 6\n",
        "    J[0, 1] = 2 * x3 * np.sin(x2 * x3)\n",
        "    J[0, 2] = 2 * x2 * np.sin\n"
      ],
      "metadata": {
        "colab": {
          "base_uri": "https://localhost:8080/"
        },
        "id": "NFfQKAABVicx",
        "outputId": "c5cf32d3-56eb-4f36-d1ee-df8c811808c4"
      },
      "execution_count": 25,
      "outputs": [
        {
          "output_type": "stream",
          "name": "stdout",
          "text": [
            "Convergencia alcanzada en 9 iteraciones.\n",
            "Solución (Newton-Raphson): [1.74012179 1.74555204]\n",
            "Convergencia alcanzada en 531 iteraciones.\n",
            "Solución (Descenso del Gradiente): [1.74012142 1.74555238]\n"
          ]
        }
      ]
    },
    {
      "cell_type": "markdown",
      "source": [
        "Punto 13"
      ],
      "metadata": {
        "id": "fGaxQ9rxU2gA"
      }
    },
    {
      "cell_type": "code",
      "source": [
        "import numpy as np\n",
        "\n",
        "def jacobiano_cuarto_orden(f, x, h=0.01):\n",
        "\n",
        "    n = len(x)\n",
        "    m = len(f(x))\n",
        "    J = np.zeros((m, n))\n",
        "\n",
        "    for i in range(n):\n",
        "\n",
        "        e = np.zeros_like(x)\n",
        "        e[i] = 1\n",
        "\n",
        "        J[:, i] = (-f(x + 2*h*e) + 8*f(x + h*e) - 8*f(x - h*e) + f(x - 2*h*e)) / (12 * h)\n",
        "\n",
        "    return J\n",
        "\n",
        "def F(x):\n",
        "    return np.array([x[0]**2 + x[1]**2 + x[2]**2, x[0] * x[1] * x[2], np.sin(x[0] + x[1] + x[2])])\n",
        "\n",
        "x = np.array([0.5, 0.5, 0.5])\n",
        "\n",
        "J_cuarto_orden = jacobiano_cuarto_orden(F, x, h=0.01)\n",
        "print(\"Jacobiano de cuarto orden en x:\", J_cuarto_orden)\n",
        "def jacobiano_segundo_orden(f, x, h=0.01):\n",
        "\n",
        "    n = len(x)\n",
        "    m = len(f(x))\n",
        "    J = np.zeros((m, n))\n",
        "\n",
        "    for i in range(n):\n",
        "        e = np.zeros_like(x)\n",
        "        e[i] = 1\n",
        "\n",
        "        J[:, i] = (f(x + h*e) - f(x - h*e)) / (2 * h)\n",
        "\n",
        "    return J\n",
        "\n",
        "\n",
        "J_segundo_orden = jacobiano_segundo_orden(F, x, h=0.01)\n",
        "print(\"Jacobiano de segundo orden en x:\", J_segundo_orden)\n",
        "def comparar_jacobianos(f, x, h_values):\n",
        "\n",
        "    for h in h_values:\n",
        "        J_2 = jacobiano_segundo_orden(f, x, h)\n",
        "        J_4 = jacobiano_cuarto_orden(f, x, h)\n",
        "        error = np.linalg.norm(J_2 - J_4)\n",
        "        print(f\"h = {h}: error entre segundo y cuarto orden = {error}\")\n",
        "\n",
        "h_values = [0.1, 0.05, 0.01, 0.005, 0.001]\n",
        "\n",
        "comparar_jacobianos(F, x, h_values)\n"
      ],
      "metadata": {
        "colab": {
          "base_uri": "https://localhost:8080/"
        },
        "id": "GoYThJ46U37-",
        "outputId": "99c2ada1-f55d-4d72-bd72-c976d9b93d0d"
      },
      "execution_count": 19,
      "outputs": [
        {
          "output_type": "stream",
          "name": "stdout",
          "text": [
            "Jacobiano de cuarto orden en x: [[1.        1.        1.       ]\n",
            " [0.25      0.25      0.25     ]\n",
            " [0.0707372 0.0707372 0.0707372]]\n",
            "Jacobiano de segundo orden en x: [[1.         1.         1.        ]\n",
            " [0.25       0.25       0.25      ]\n",
            " [0.07073602 0.07073602 0.07073602]]\n",
            "h = 0.1: error entre segundo y cuarto orden = 0.0002036907205570962\n",
            "h = 0.05: error entre segundo y cuarto orden = 5.1018279644268366e-05\n",
            "h = 0.01: error entre segundo y cuarto orden = 2.0419560773415795e-06\n",
            "h = 0.005: error entre segundo y cuarto orden = 5.104985928892588e-07\n",
            "h = 0.001: error entre segundo y cuarto orden = 2.042010102166809e-08\n"
          ]
        }
      ]
    },
    {
      "cell_type": "markdown",
      "source": [
        "Punto 14"
      ],
      "metadata": {
        "id": "jBHwtvtqUwmh"
      }
    },
    {
      "cell_type": "code",
      "source": [
        "import sympy as sp\n",
        "\n",
        "matriz_rotacion_x = sp.Matrix([[0, 0, 0], [0, 0, -1], [0, 1, 0]])\n",
        "matriz_rotacion_y = sp.Matrix([[0, 0, 1], [0, 0, 0], [-1, 0, 0]])\n",
        "matriz_rotacion_z = sp.Matrix([[0, -1, 0], [1, 0, 0], [0, 0, 0]])\n",
        "\n",
        "def simbolo_levicivita(i, j, k):\n",
        "    if (i, j, k) in [(1, 2, 3), (2, 3, 1), (3, 1, 2)]:\n",
        "        return 1\n",
        "    elif (i, j, k) in [(3, 2, 1), (1, 3, 2), (2, 1, 3)]:\n",
        "        return -1\n",
        "    else:\n",
        "        return 0\n",
        "\n",
        "conmutador_xy = matriz_rotacion_x * matriz_rotacion_y - matriz_rotacion_y * matriz_rotacion_x\n",
        "conmutador_xz = matriz_rotacion_x * matriz_rotacion_z - matriz_rotacion_z * matriz_rotacion_x\n",
        "conmutador_yz = matriz_rotacion_y * matriz_rotacion_z - matriz_rotacion_z * matriz_rotacion_y\n",
        "\n",
        "print(\"[J_x, J_y] =\", conmutador_xy, \"Símbolo Levi-Civita:\", simbolo_levicivita(1, 2, 3))\n",
        "print(\"[J_x, J_z] =\", conmutador_xz, \"Símbolo Levi-Civita:\", simbolo_levicivita(2, 1, 3))\n",
        "print(\"[J_y, J_z] =\", conmutador_yz, \"Símbolo Levi-Civita:\", simbolo_levicivita(2, 2, 18))\n"
      ],
      "metadata": {
        "colab": {
          "base_uri": "https://localhost:8080/"
        },
        "id": "YkmCgkNKUv8O",
        "outputId": "55faeec3-b989-4c84-8d45-3d0449b04c5a"
      },
      "execution_count": 22,
      "outputs": [
        {
          "output_type": "stream",
          "name": "stdout",
          "text": [
            "[J_x, J_y] = Matrix([[0, -1, 0], [1, 0, 0], [0, 0, 0]]) Símbolo Levi-Civita: 1\n",
            "[J_x, J_z] = Matrix([[0, 0, -1], [0, 0, 0], [1, 0, 0]]) Símbolo Levi-Civita: -1\n",
            "[J_y, J_z] = Matrix([[0, 0, 0], [0, 0, -1], [0, 1, 0]]) Símbolo Levi-Civita: 0\n"
          ]
        }
      ]
    }
  ]
}